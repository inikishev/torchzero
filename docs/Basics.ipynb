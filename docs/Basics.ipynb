{
 "cells": [
  {
   "cell_type": "markdown",
   "id": "c332c296",
   "metadata": {},
   "source": [
    "# torchzero basics"
   ]
  },
  {
   "cell_type": "code",
   "execution_count": 1,
   "id": "0701ed43",
   "metadata": {},
   "outputs": [],
   "source": [
    "import torch\n",
    "torch.manual_seed(0)\n",
    "from torch import nn\n",
    "from torch.nn import functional as F\n",
    "import torchzero as tz"
   ]
  },
  {
   "cell_type": "markdown",
   "id": "74fe223b",
   "metadata": {},
   "source": [
    "## Performing optimization"
   ]
  },
  {
   "cell_type": "markdown",
   "id": "c834a7ab",
   "metadata": {},
   "source": [
    "In torchzero the optimization algorithm is represented as a sequence of modules, where each module is a distinct step in the optimization process.\n",
    "\n",
    "To construct an optimizer, pass the modules to `Optimizer` object, it can be a drop-in replacement for any PyTorch optimizer. All modules are available within the `torchzero.m` namespace."
   ]
  },
  {
   "cell_type": "code",
   "execution_count": 89,
   "id": "b10c3094",
   "metadata": {},
   "outputs": [],
   "source": [
    "model = nn.Sequential(nn.Linear(10, 10), nn.ELU(), nn.Linear(10, 1))\n",
    "inputs = torch.randn(100,10)\n",
    "targets = torch.randn(100, 1)\n",
    "\n",
    "optimizer = tz.Optimizer(\n",
    "    model.parameters(),\n",
    "    tz.m.ClipValue(1),\n",
    "    tz.m.Adam(),\n",
    "    tz.m.WeightDecay(1e-2),\n",
    "    tz.m.LR(1e-1)\n",
    ")"
   ]
  },
  {
   "cell_type": "markdown",
   "id": "396acec2",
   "metadata": {},
   "source": [
    "Here is what happens:\n",
    "\n",
    "1. The gradient is passed to the `ClipValue(1)` module, which returns gradient with magnitudes clipped to be no larger than 1.\n",
    "\n",
    "2. Clipped gradient is passed to `Adam()`, which updates Adam momentum buffers and returns the Adam update.\n",
    "\n",
    "3. The Adam update is passed to `WeightDecay()` which adds a weight decay penalty to the Adam update. Since we placed it after Adam, the weight decay is decoupled. By moving `WeightDecay()` before `Adam()`, we can get coupled weight decay.\n",
    "\n",
    "4. Finally the update is passed to `LR(0.1)`, which multiplies it by the learning rate of 0.1.\n",
    "\n",
    "The optimization loop is the same as with any other pytorch optimizer:"
   ]
  },
  {
   "cell_type": "code",
   "execution_count": 3,
   "id": "25697deb",
   "metadata": {},
   "outputs": [
    {
     "name": "stdout",
     "output_type": "stream",
     "text": [
      "step: 20, loss: 0.5673\n",
      "step: 40, loss: 0.2976\n",
      "step: 60, loss: 0.1544\n",
      "step: 80, loss: 0.1057\n",
      "step: 100, loss: 0.0926\n"
     ]
    }
   ],
   "source": [
    "for i in range(1, 101):\n",
    "    preds = model(inputs)\n",
    "    loss = F.mse_loss(preds, targets)\n",
    "    optimizer.zero_grad()\n",
    "    loss.backward()\n",
    "    optimizer.step()\n",
    "    if i % 20 == 0: print(f\"step: {i}, loss: {loss.item():.4f}\")"
   ]
  },
  {
   "cell_type": "markdown",
   "id": "f7432c0b",
   "metadata": {},
   "source": [
    "## LR schedulers\n",
    "An LR scheduler works like with any pytorch optimizer as long as you add an `LR` module, where the scheduling will happen."
   ]
  },
  {
   "cell_type": "code",
   "execution_count": 91,
   "id": "b29b02a7",
   "metadata": {},
   "outputs": [
    {
     "name": "stdout",
     "output_type": "stream",
     "text": [
      "step: 1, loss: 1.0595, lr: 0.0086\n",
      "step: 21, loss: 0.6385, lr: 0.1661\n",
      "step: 41, loss: 0.3592, lr: 0.1858\n",
      "step: 61, loss: 0.1495, lr: 0.1134\n",
      "step: 81, loss: 0.0904, lr: 0.0309\n"
     ]
    }
   ],
   "source": [
    "model = nn.Sequential(nn.Linear(10, 10), nn.ELU(), nn.Linear(10, 1))\n",
    "inputs = torch.randn(100,10)\n",
    "targets = torch.randn(100, 1)\n",
    "\n",
    "optimizer = tz.Optimizer(\n",
    "    model.parameters(),\n",
    "    tz.m.ClipValue(1),\n",
    "    tz.m.Adam(),\n",
    "    tz.m.WeightDecay(1e-2),\n",
    "    tz.m.LR(1e-1)\n",
    ")\n",
    "scheduler = torch.optim.lr_scheduler.OneCycleLR(optimizer, max_lr=2e-1, total_steps=100, cycle_momentum=False)\n",
    "\n",
    "for i in range(1, 101):\n",
    "    preds = model(inputs)\n",
    "    loss = F.mse_loss(preds, targets)\n",
    "    optimizer.zero_grad()\n",
    "    loss.backward()\n",
    "    optimizer.step()\n",
    "    scheduler.step()\n",
    "    if i % 20 == 1:\n",
    "        print(f\"step: {i}, loss: {loss.item():.4f}, lr: {optimizer.param_groups[0]['lr']:.4f}\")"
   ]
  },
  {
   "cell_type": "markdown",
   "id": "c74ffb62",
   "metadata": {},
   "source": [
    "## Per-parameter settings\n",
    "Per-parameter settings are specified in param groups, in the same way as in pytorch optimizers.\n",
    "\n",
    "When a module is created, you can pass various settings to it, such as `Adam(beta1=0.95, beta2=0.99)`.\n",
    "\n",
    "Those settings can be overridden using param groups, which can be used to specify custom settings for only specific layers. Param groups should be a sequence of dictionaries, with each dictionary representing one parameter group. Each dictionary must have the `\"params\"` key with an iterable of parameters, and other keys with custom settings for that param group."
   ]
  },
  {
   "cell_type": "code",
   "execution_count": 92,
   "id": "f0227a2c",
   "metadata": {},
   "outputs": [],
   "source": [
    "model = nn.Sequential(nn.Linear(10, 10), nn.ELU(), nn.Linear(10, 1))\n",
    "\n",
    "param_groups = [\n",
    "    {\"params\": model[0].parameters(), \"lr\": 1e-2}, # 1st linear\n",
    "    {\"params\": model[2].parameters(), \"lr\": 1e-1, \"beta2\": 0.95} # 2nd linear\n",
    "]\n",
    "\n",
    "optimizer = tz.Optimizer(\n",
    "    param_groups,\n",
    "    tz.m.ClipValue(1),\n",
    "    tz.m.Adam(beta2=0.99),\n",
    "    tz.m.WeightDecay(1e-2),\n",
    "    tz.m.LR(1e-1)\n",
    ")\n",
    "scheduler = torch.optim.lr_scheduler.OneCycleLR(optimizer, max_lr=[1e-2, 1e-1], total_steps=100, cycle_momentum=False)"
   ]
  },
  {
   "cell_type": "markdown",
   "id": "63b3edbe",
   "metadata": {},
   "source": [
    "## Advanced optimization\n",
    "Certain modules require closure, for example line searches, trust region methods, gradient estimators and optimizers that rely on extra autograd. The closure is similar to one needed by L-BFGS in pytorch, however in torchzero it requires an additional `backward` argument with the default value of True.\n",
    "\n",
    "The closure evaluates and returns the loss. If `backward=True`, it should also call `optimizer.zero_grad()` and `loss.backward()`.\n",
    "\n",
    "For example, we can use Newton's method with cubic regularization to greatly speed up small scale optimization."
   ]
  },
  {
   "cell_type": "code",
   "execution_count": null,
   "id": "1a8f8732",
   "metadata": {},
   "outputs": [
    {
     "name": "stdout",
     "output_type": "stream",
     "text": [
      "step: 10, loss: 0.6304\n",
      "step: 20, loss: 0.1783\n",
      "step: 30, loss: 0.0160\n",
      "step: 40, loss: 0.0004\n",
      "step: 50, loss: 0.0000\n"
     ]
    }
   ],
   "source": [
    "model = nn.Sequential(nn.Linear(10, 10), nn.ELU(), nn.Linear(10, 1))\n",
    "inputs = torch.randn(100,10)\n",
    "targets = torch.randn(100, 1)\n",
    "\n",
    "optimizer = tz.Optimizer(\n",
    "    model.parameters(),\n",
    "    tz.m.CubicRegularization(tz.m.Newton()),\n",
    ")\n",
    "\n",
    "for i in range(1, 51):\n",
    "\n",
    "    def closure(backward=True):\n",
    "        preds = model(inputs)\n",
    "        loss = F.mse_loss(preds, targets)\n",
    "        if backward:\n",
    "            optimizer.zero_grad()\n",
    "            loss.backward()\n",
    "        return loss\n",
    "\n",
    "    loss = optimizer.step(closure)\n",
    "\n",
    "    if i % 10 == 0:\n",
    "        print(f\"step: {i}, loss: {loss.item():.4f}\")"
   ]
  }
 ],
 "metadata": {
  "kernelspec": {
   "display_name": "pytorch312",
   "language": "python",
   "name": "python3"
  },
  "language_info": {
   "codemirror_mode": {
    "name": "ipython",
    "version": 3
   },
   "file_extension": ".py",
   "mimetype": "text/x-python",
   "name": "python",
   "nbconvert_exporter": "python",
   "pygments_lexer": "ipython3",
   "version": "3.12.7"
  }
 },
 "nbformat": 4,
 "nbformat_minor": 5
}
