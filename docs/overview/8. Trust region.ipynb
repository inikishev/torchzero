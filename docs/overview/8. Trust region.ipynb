{
 "cells": [
  {
   "cell_type": "markdown",
   "id": "8c85a041",
   "metadata": {},
   "source": [
    "# 8. Trust region\n",
    "\n",
    "Under construction"
   ]
  }
 ],
 "metadata": {
  "language_info": {
   "name": "python"
  }
 },
 "nbformat": 4,
 "nbformat_minor": 5
}
