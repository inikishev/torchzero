{
 "cells": [
  {
   "cell_type": "markdown",
   "id": "beba373a",
   "metadata": {},
   "source": [
    "# 10. Variance reduction\n",
    "\n",
    "Under construction"
   ]
  }
 ],
 "metadata": {
  "language_info": {
   "name": "python"
  }
 },
 "nbformat": 4,
 "nbformat_minor": 5
}
