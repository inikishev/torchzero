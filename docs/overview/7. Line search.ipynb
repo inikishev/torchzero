{
 "cells": [
  {
   "cell_type": "markdown",
   "id": "f4d9b839",
   "metadata": {},
   "source": [
    "# 7. Line search\n",
    "\n",
    "Under construction"
   ]
  }
 ],
 "metadata": {
  "language_info": {
   "name": "python"
  }
 },
 "nbformat": 4,
 "nbformat_minor": 5
}
