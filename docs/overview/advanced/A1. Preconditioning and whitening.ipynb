{
 "cells": [
  {
   "cell_type": "markdown",
   "id": "c16908c4",
   "metadata": {},
   "source": [
    "# A1. Preconditioning and whitening\n",
    "\n",
    "Under construction"
   ]
  }
 ],
 "metadata": {
  "language_info": {
   "name": "python"
  }
 },
 "nbformat": 4,
 "nbformat_minor": 5
}
