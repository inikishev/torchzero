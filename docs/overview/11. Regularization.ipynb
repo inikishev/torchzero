{
 "cells": [
  {
   "cell_type": "markdown",
   "id": "b6ba295e",
   "metadata": {},
   "source": [
    "# 11. Regularization\n",
    "\n",
    "Under construction"
   ]
  }
 ],
 "metadata": {
  "language_info": {
   "name": "python"
  }
 },
 "nbformat": 4,
 "nbformat_minor": 5
}
