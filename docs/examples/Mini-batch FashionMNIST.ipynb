{
 "cells": [
  {
   "cell_type": "markdown",
   "id": "5e5a8f90",
   "metadata": {},
   "source": [
    "# Mini-batch FashionMNIST\n",
    "We shall train a tiny (under 10k params) FashionMNIST convolutional neural network using mini-batch training.\n",
    "\n",
    "### 1. Introduction\n",
    "\n",
    "This notebook was ran on a GTX 1650 with 4 GB VRAM.\n",
    "\n",
    "### 2. Imports"
   ]
  },
  {
   "cell_type": "code",
   "execution_count": 1,
   "id": "8f5b87af",
   "metadata": {},
   "outputs": [],
   "source": [
    "import torch\n",
    "from torch import nn\n",
    "import torch.nn.functional as F\n",
    "from torch.utils.data import DataLoader, TensorDataset\n",
    "import torchzero as tz\n",
    "from scipy.ndimage import gaussian_filter1d\n",
    "import matplotlib.pyplot as plt\n",
    "import tqdm.notebook as tqdm\n",
    "import numpy as np\n",
    "import random\n",
    "from torchvision.datasets import FashionMNIST\n",
    "from light_dataloader import TensorDataLoader\n",
    "\n",
    "torch.manual_seed(0)\n",
    "np.random.seed(0)\n",
    "random.seed(0)"
   ]
  },
  {
   "cell_type": "markdown",
   "id": "59d4705b",
   "metadata": {},
   "source": [
    "### 3. Load the dataset\n",
    "\n",
    "FashionMNIST is like MNIST but a bit harder. Each sample is a single channel 28x28 image and an integer label from 0 to 9.\n",
    "\n",
    "I stacked the entire dataset into a tensor and move it to GPU for efficiency."
   ]
  },
  {
   "cell_type": "code",
   "execution_count": 2,
   "id": "a6a36b92",
   "metadata": {},
   "outputs": [
    {
     "data": {
      "text/plain": [
       "(torch.Size([60000, 1, 28, 28]),\n",
       " torch.Size([60000]),\n",
       " torch.Size([10000, 1, 28, 28]),\n",
       " torch.Size([10000]))"
      ]
     },
     "execution_count": 2,
     "metadata": {},
     "output_type": "execute_result"
    }
   ],
   "source": [
    "def to_tensors(ds):\n",
    "    inputs = []\n",
    "    targets = []\n",
    "    for input, target in ds:\n",
    "        inputs.append(torch.tensor(np.array(input), dtype=torch.float32))\n",
    "        targets.append(torch.tensor(np.array(target), dtype=torch.long))\n",
    "\n",
    "    # znormalize\n",
    "    inputs = torch.stack(inputs)\n",
    "    inputs = (inputs - inputs.mean() / inputs.std())\n",
    "\n",
    "    return inputs.cuda(), torch.stack(targets).cuda()\n",
    "\n",
    "fm_train = FashionMNIST(\"/var/mnt/wwn-0x5000039a52582e84-part1/datasets/FashionMNIST\", train=True, download=True)\n",
    "fm_test = FashionMNIST(\"/var/mnt/wwn-0x5000039a52582e84-part1/datasets/FashionMNIST\", train=False, download=True)\n",
    "\n",
    "train_X, train_y = to_tensors(fm_train)\n",
    "test_X, test_y = to_tensors(fm_test)\n",
    "\n",
    "train_X.unsqueeze_(1)\n",
    "test_X.unsqueeze_(1)\n",
    "\n",
    "dl_train = TensorDataLoader((train_X, train_y), batch_size=32, shuffle=True, memory_efficient=True, seed=0)\n",
    "dl_test = TensorDataLoader((test_X, test_y), batch_size=1024, shuffle=False, memory_efficient=True, seed=0)\n",
    "\n",
    "train_X.shape, train_y.shape, test_X.shape, test_y.shape"
   ]
  },
  {
   "cell_type": "markdown",
   "id": "6bc8fefb",
   "metadata": {},
   "source": [
    "### 4. Define the model\n",
    "\n",
    "We use a 4-layer convolutional net with 9.6k parameters. The same model was used for full-batched training in another notebook and achieved 90% test accuracy."
   ]
  },
  {
   "cell_type": "code",
   "execution_count": 3,
   "id": "b5cdad26",
   "metadata": {},
   "outputs": [
    {
     "name": "stdout",
     "output_type": "stream",
     "text": [
      "torch.Size([1, 10])\n"
     ]
    },
    {
     "data": {
      "text/plain": [
       "9634"
      ]
     },
     "execution_count": 3,
     "metadata": {},
     "output_type": "execute_result"
    }
   ],
   "source": [
    "def count_params(model):\n",
    "    return sum(p.numel() for p in model.parameters() if p.requires_grad)\n",
    "\n",
    "class TinyConvNet(nn.Module):\n",
    "    def __init__(self):\n",
    "        super().__init__()\n",
    "        self.c1 = nn.Conv2d(1, 16, 3, 2)\n",
    "        self.c2 = nn.Conv2d(16, 24, 3, 2)\n",
    "        self.c3 = nn.Conv2d(24, 32, 2, 2)\n",
    "        self.head = nn.Sequential(nn.Flatten(), nn.Linear(32*9, 10))\n",
    "\n",
    "    def forward(self, x):\n",
    "        x = F.elu(self.c1(x), inplace=True)\n",
    "        x = F.elu(self.c2(x), inplace=True)\n",
    "        x = F.elu(self.c3(x), inplace=True)\n",
    "        return self.head(x)\n",
    "\n",
    "print(TinyConvNet()(torch.randn(1,1,28,28)).shape)\n",
    "count_params(TinyConvNet())"
   ]
  },
  {
   "cell_type": "markdown",
   "id": "b417e0ec",
   "metadata": {},
   "source": [
    "### 5. Define the training function"
   ]
  },
  {
   "cell_type": "code",
   "execution_count": null,
   "id": "f68dee94",
   "metadata": {},
   "outputs": [],
   "source": [
    "def train_epoch(dl_train, model, opt, scheduler, criterion):\n",
    "    losses = []\n",
    "    accs = []\n",
    "\n",
    "    for x, y in tqdm.tqdm(dl_train, leave=False, desc='train'):\n",
    "\n",
    "        accuracy = None\n",
    "\n",
    "        def closure(backward=True):\n",
    "            y_hat = model(x)\n",
    "            loss = criterion(y_hat, y)\n",
    "            if backward:\n",
    "                opt.zero_grad()\n",
    "                loss.backward()\n",
    "\n",
    "            with torch.no_grad():\n",
    "                nonlocal accuracy\n",
    "                accuracy = (y_hat.argmax(-1) == y).float().mean()\n",
    "\n",
    "            return loss\n",
    "\n",
    "        loss = opt.step(closure)\n",
    "        if scheduler is not None: scheduler.step()\n",
    "        losses.append(loss.detach().cpu())\n",
    "        accs.append(accuracy.detach().cpu()) # type:ignore\n",
    "\n",
    "    return losses, accs\n",
    "\n",
    "@torch.no_grad\n",
    "def test_epoch(dl_test, model, criterion):\n",
    "    losses = []\n",
    "    accs = []\n",
    "\n",
    "    for x, y in tqdm.tqdm(dl_test, leave=False, desc='test'):\n",
    "        y_hat = model(x)\n",
    "        loss = criterion(y_hat, y)\n",
    "        accuracy = (y_hat.argmax(-1) == y).float().mean()\n",
    "        losses.append(loss.detach().cpu())\n",
    "        accs.append(accuracy.detach().cpu())\n",
    "\n",
    "    return losses, accs\n",
    "\n",
    "def run(opt_fn, epochs: int, scheduler_fn=None):\n",
    "    dl_train.reset_rng()\n",
    "    model = TinyConvNet().cuda()\n",
    "    opt = opt_fn(model.parameters())\n",
    "    scheduler = None if scheduler_fn is None else scheduler_fn(opt)\n",
    "    criterion = F.cross_entropy\n",
    "\n",
    "    train_losses = []\n",
    "    train_acc = []\n",
    "    test_losses = {}\n",
    "    test_acc = {}\n",
    "\n",
    "    losses, accs = test_epoch(dl_train, model, criterion)\n",
    "    test_losses[len(train_losses)] = np.mean(losses)\n",
    "    test_acc[len(train_losses)] = np.mean(accs)\n",
    "\n",
    "    for epoch in tqdm.trange(epochs):\n",
    "        losses, accs = train_epoch(dl_train, model, opt, scheduler, criterion)\n",
    "        train_losses.extend(losses)\n",
    "        train_acc.extend(accs)\n",
    "\n",
    "        losses, accs = test_epoch(dl_train, model, criterion)\n",
    "        test_losses[len(train_losses)] = np.mean(losses)\n",
    "        test_acc[len(train_losses)] = np.mean(accs)\n",
    "\n",
    "    print(f\"{max(test_acc.values()) = }\")\n",
    "    print(f'{min(test_losses.values()) = }')\n",
    "\n",
    "    plt.plot(train_acc, label='train')\n",
    "    plt.plot(gaussian_filter1d(train_acc, 10, mode='nearest'), label='train (smoothed)')\n",
    "    plt.plot(*zip(*test_acc.items()), label='test')\n",
    "    plt.xlabel('number of function evaluations')\n",
    "    plt.ylabel('accuracy')\n",
    "    plt.legend()\n",
    "    plt.show()\n",
    "\n",
    "    return model, train_losses, test_losses, train_acc, test_acc"
   ]
  },
  {
   "cell_type": "markdown",
   "id": "93512840",
   "metadata": {},
   "source": [
    "### 6. Run\n",
    "\n",
    "With Adam we achieve 92% accuracy in under 2 minutes, compared to 90% in 6 minutes in full-batch notebook."
   ]
  },
  {
   "cell_type": "code",
   "execution_count": null,
   "id": "8ac5c620",
   "metadata": {},
   "outputs": [
    {
     "data": {
      "application/vnd.jupyter.widget-view+json": {
       "model_id": "2226ece31cfa47e28a94c27435a5c895",
       "version_major": 2,
       "version_minor": 0
      },
      "text/plain": [
       "test:   0%|          | 0/1875 [00:00<?, ?it/s]"
      ]
     },
     "metadata": {},
     "output_type": "display_data"
    },
    {
     "data": {
      "application/vnd.jupyter.widget-view+json": {
       "model_id": "40711ba872214b5aa0d386e794f94865",
       "version_major": 2,
       "version_minor": 0
      },
      "text/plain": [
       "  0%|          | 0/10 [00:00<?, ?it/s]"
      ]
     },
     "metadata": {},
     "output_type": "display_data"
    },
    {
     "data": {
      "application/vnd.jupyter.widget-view+json": {
       "model_id": "82b1777942584353958dfb47062bd077",
       "version_major": 2,
       "version_minor": 0
      },
      "text/plain": [
       "train:   0%|          | 0/1875 [00:00<?, ?it/s]"
      ]
     },
     "metadata": {},
     "output_type": "display_data"
    },
    {
     "data": {
      "application/vnd.jupyter.widget-view+json": {
       "model_id": "db9e2f55f43d4ec59294c4be4ee647e0",
       "version_major": 2,
       "version_minor": 0
      },
      "text/plain": [
       "test:   0%|          | 0/1875 [00:00<?, ?it/s]"
      ]
     },
     "metadata": {},
     "output_type": "display_data"
    },
    {
     "data": {
      "application/vnd.jupyter.widget-view+json": {
       "model_id": "fbe1cddd064e455e9babbb398f11af7d",
       "version_major": 2,
       "version_minor": 0
      },
      "text/plain": [
       "train:   0%|          | 0/1875 [00:00<?, ?it/s]"
      ]
     },
     "metadata": {},
     "output_type": "display_data"
    },
    {
     "data": {
      "application/vnd.jupyter.widget-view+json": {
       "model_id": "edf0415480ba4f4da429b2731d49e51d",
       "version_major": 2,
       "version_minor": 0
      },
      "text/plain": [
       "test:   0%|          | 0/1875 [00:00<?, ?it/s]"
      ]
     },
     "metadata": {},
     "output_type": "display_data"
    },
    {
     "data": {
      "application/vnd.jupyter.widget-view+json": {
       "model_id": "1c12eddacc5045f09cd747a35f196dee",
       "version_major": 2,
       "version_minor": 0
      },
      "text/plain": [
       "train:   0%|          | 0/1875 [00:00<?, ?it/s]"
      ]
     },
     "metadata": {},
     "output_type": "display_data"
    },
    {
     "data": {
      "application/vnd.jupyter.widget-view+json": {
       "model_id": "e10f624fd89c41d08e118d2bc8332c82",
       "version_major": 2,
       "version_minor": 0
      },
      "text/plain": [
       "test:   0%|          | 0/1875 [00:00<?, ?it/s]"
      ]
     },
     "metadata": {},
     "output_type": "display_data"
    },
    {
     "data": {
      "application/vnd.jupyter.widget-view+json": {
       "model_id": "75bc63ada6924491b8d0b6351caac49d",
       "version_major": 2,
       "version_minor": 0
      },
      "text/plain": [
       "train:   0%|          | 0/1875 [00:00<?, ?it/s]"
      ]
     },
     "metadata": {},
     "output_type": "display_data"
    },
    {
     "data": {
      "application/vnd.jupyter.widget-view+json": {
       "model_id": "bbabb0ee9fe74efe89de6ea5ea1d2b4a",
       "version_major": 2,
       "version_minor": 0
      },
      "text/plain": [
       "test:   0%|          | 0/1875 [00:00<?, ?it/s]"
      ]
     },
     "metadata": {},
     "output_type": "display_data"
    },
    {
     "data": {
      "application/vnd.jupyter.widget-view+json": {
       "model_id": "455a2939aced4d6d82aef7423502daf1",
       "version_major": 2,
       "version_minor": 0
      },
      "text/plain": [
       "train:   0%|          | 0/1875 [00:00<?, ?it/s]"
      ]
     },
     "metadata": {},
     "output_type": "display_data"
    },
    {
     "data": {
      "application/vnd.jupyter.widget-view+json": {
       "model_id": "3c3b4b400f0e40939d86005f06649915",
       "version_major": 2,
       "version_minor": 0
      },
      "text/plain": [
       "test:   0%|          | 0/1875 [00:00<?, ?it/s]"
      ]
     },
     "metadata": {},
     "output_type": "display_data"
    },
    {
     "data": {
      "application/vnd.jupyter.widget-view+json": {
       "model_id": "7df1dbb4a7e841d0b3f864098caf8588",
       "version_major": 2,
       "version_minor": 0
      },
      "text/plain": [
       "train:   0%|          | 0/1875 [00:00<?, ?it/s]"
      ]
     },
     "metadata": {},
     "output_type": "display_data"
    },
    {
     "data": {
      "application/vnd.jupyter.widget-view+json": {
       "model_id": "8c49af8b262641b6a6db6f9b00b74395",
       "version_major": 2,
       "version_minor": 0
      },
      "text/plain": [
       "test:   0%|          | 0/1875 [00:00<?, ?it/s]"
      ]
     },
     "metadata": {},
     "output_type": "display_data"
    },
    {
     "data": {
      "application/vnd.jupyter.widget-view+json": {
       "model_id": "92badcf8aad943d5812aaf6e4b4dce26",
       "version_major": 2,
       "version_minor": 0
      },
      "text/plain": [
       "train:   0%|          | 0/1875 [00:00<?, ?it/s]"
      ]
     },
     "metadata": {},
     "output_type": "display_data"
    },
    {
     "data": {
      "application/vnd.jupyter.widget-view+json": {
       "model_id": "b1450fc3941e4e9fba9d431c573e1592",
       "version_major": 2,
       "version_minor": 0
      },
      "text/plain": [
       "test:   0%|          | 0/1875 [00:00<?, ?it/s]"
      ]
     },
     "metadata": {},
     "output_type": "display_data"
    },
    {
     "data": {
      "application/vnd.jupyter.widget-view+json": {
       "model_id": "611d6a27735f4e3b9c5474663ce38c94",
       "version_major": 2,
       "version_minor": 0
      },
      "text/plain": [
       "train:   0%|          | 0/1875 [00:00<?, ?it/s]"
      ]
     },
     "metadata": {},
     "output_type": "display_data"
    },
    {
     "data": {
      "application/vnd.jupyter.widget-view+json": {
       "model_id": "69671c8da806490b94a614dc6e2e8737",
       "version_major": 2,
       "version_minor": 0
      },
      "text/plain": [
       "test:   0%|          | 0/1875 [00:00<?, ?it/s]"
      ]
     },
     "metadata": {},
     "output_type": "display_data"
    },
    {
     "data": {
      "application/vnd.jupyter.widget-view+json": {
       "model_id": "ed75f3ecd5ef459ba1ef7f2f2d5d2c4c",
       "version_major": 2,
       "version_minor": 0
      },
      "text/plain": [
       "train:   0%|          | 0/1875 [00:00<?, ?it/s]"
      ]
     },
     "metadata": {},
     "output_type": "display_data"
    },
    {
     "data": {
      "application/vnd.jupyter.widget-view+json": {
       "model_id": "c09b9dfe98ff482793ec1bd8148f7825",
       "version_major": 2,
       "version_minor": 0
      },
      "text/plain": [
       "test:   0%|          | 0/1875 [00:00<?, ?it/s]"
      ]
     },
     "metadata": {},
     "output_type": "display_data"
    },
    {
     "data": {
      "application/vnd.jupyter.widget-view+json": {
       "model_id": "d204313833cf4ecdaf7b6f69dc40f935",
       "version_major": 2,
       "version_minor": 0
      },
      "text/plain": [
       "train:   0%|          | 0/1875 [00:00<?, ?it/s]"
      ]
     },
     "metadata": {},
     "output_type": "display_data"
    },
    {
     "data": {
      "application/vnd.jupyter.widget-view+json": {
       "model_id": "471bae146de84c17b2df3b8872af5bbc",
       "version_major": 2,
       "version_minor": 0
      },
      "text/plain": [
       "test:   0%|          | 0/1875 [00:00<?, ?it/s]"
      ]
     },
     "metadata": {},
     "output_type": "display_data"
    },
    {
     "name": "stdout",
     "output_type": "stream",
     "text": [
      "max(test_acc.values()) = np.float32(0.92616665)\n",
      "min(test_losses.values()) = np.float32(0.20091964)\n"
     ]
    },
    {
     "data": {
      "image/png": "[encoded data removed]",
      "text/plain": [
       "<Figure size 640x480 with 1 Axes>"
      ]
     },
     "metadata": {},
     "output_type": "display_data"
    }
   ],
   "source": [
    "model, train_losses, test_losses, train_acc, test_acc = run(\n",
    "    opt_fn = lambda params: tz.Modular(\n",
    "        params,\n",
    "        tz.m.Adam(),\n",
    "        tz.m.LR(1e-3),\n",
    "    ),\n",
    "    epochs=30,\n",
    ")"
   ]
  },
  {
   "cell_type": "code",
   "execution_count": 6,
   "id": "fccaa2db",
   "metadata": {},
   "outputs": [
    {
     "data": {
      "application/vnd.jupyter.widget-view+json": {
       "model_id": "5e8da6ebaffa4ce09ea77243b5c23c32",
       "version_major": 2,
       "version_minor": 0
      },
      "text/plain": [
       "test:   0%|          | 0/1875 [00:00<?, ?it/s]"
      ]
     },
     "metadata": {},
     "output_type": "display_data"
    },
    {
     "data": {
      "application/vnd.jupyter.widget-view+json": {
       "model_id": "0b61a2a4459342be9549eb499017e55e",
       "version_major": 2,
       "version_minor": 0
      },
      "text/plain": [
       "  0%|          | 0/10 [00:00<?, ?it/s]"
      ]
     },
     "metadata": {},
     "output_type": "display_data"
    },
    {
     "data": {
      "application/vnd.jupyter.widget-view+json": {
       "model_id": "8826bb641c82486d84c8ae50dc2e556c",
       "version_major": 2,
       "version_minor": 0
      },
      "text/plain": [
       "train:   0%|          | 0/1875 [00:00<?, ?it/s]"
      ]
     },
     "metadata": {},
     "output_type": "display_data"
    },
    {
     "data": {
      "application/vnd.jupyter.widget-view+json": {
       "model_id": "eb33292701494d9bb15cf7df0bb3d4b1",
       "version_major": 2,
       "version_minor": 0
      },
      "text/plain": [
       "test:   0%|          | 0/1875 [00:00<?, ?it/s]"
      ]
     },
     "metadata": {},
     "output_type": "display_data"
    },
    {
     "data": {
      "application/vnd.jupyter.widget-view+json": {
       "model_id": "4829c20b498146898e5db24493116b21",
       "version_major": 2,
       "version_minor": 0
      },
      "text/plain": [
       "train:   0%|          | 0/1875 [00:00<?, ?it/s]"
      ]
     },
     "metadata": {},
     "output_type": "display_data"
    },
    {
     "data": {
      "application/vnd.jupyter.widget-view+json": {
       "model_id": "e6cece05df0845bbae9321c86f29b089",
       "version_major": 2,
       "version_minor": 0
      },
      "text/plain": [
       "test:   0%|          | 0/1875 [00:00<?, ?it/s]"
      ]
     },
     "metadata": {},
     "output_type": "display_data"
    },
    {
     "data": {
      "application/vnd.jupyter.widget-view+json": {
       "model_id": "2e754e9d23ff49ada14edc88e823681d",
       "version_major": 2,
       "version_minor": 0
      },
      "text/plain": [
       "train:   0%|          | 0/1875 [00:00<?, ?it/s]"
      ]
     },
     "metadata": {},
     "output_type": "display_data"
    },
    {
     "data": {
      "application/vnd.jupyter.widget-view+json": {
       "model_id": "3a26c8195fea401b9071314ab39666b5",
       "version_major": 2,
       "version_minor": 0
      },
      "text/plain": [
       "test:   0%|          | 0/1875 [00:00<?, ?it/s]"
      ]
     },
     "metadata": {},
     "output_type": "display_data"
    },
    {
     "data": {
      "application/vnd.jupyter.widget-view+json": {
       "model_id": "c56eb3dc9a1640d4aa6e80c177e54bff",
       "version_major": 2,
       "version_minor": 0
      },
      "text/plain": [
       "train:   0%|          | 0/1875 [00:00<?, ?it/s]"
      ]
     },
     "metadata": {},
     "output_type": "display_data"
    },
    {
     "data": {
      "application/vnd.jupyter.widget-view+json": {
       "model_id": "71a88aebd7cb448b8aaafcfa16c210d5",
       "version_major": 2,
       "version_minor": 0
      },
      "text/plain": [
       "test:   0%|          | 0/1875 [00:00<?, ?it/s]"
      ]
     },
     "metadata": {},
     "output_type": "display_data"
    },
    {
     "data": {
      "application/vnd.jupyter.widget-view+json": {
       "model_id": "c6521589154d46739f8c7ce2fa0e1463",
       "version_major": 2,
       "version_minor": 0
      },
      "text/plain": [
       "train:   0%|          | 0/1875 [00:00<?, ?it/s]"
      ]
     },
     "metadata": {},
     "output_type": "display_data"
    },
    {
     "data": {
      "application/vnd.jupyter.widget-view+json": {
       "model_id": "8df617575f4049c3b3057533a6e934a9",
       "version_major": 2,
       "version_minor": 0
      },
      "text/plain": [
       "test:   0%|          | 0/1875 [00:00<?, ?it/s]"
      ]
     },
     "metadata": {},
     "output_type": "display_data"
    },
    {
     "data": {
      "application/vnd.jupyter.widget-view+json": {
       "model_id": "e5f9cae994944dec8d8a9e98458b9b4a",
       "version_major": 2,
       "version_minor": 0
      },
      "text/plain": [
       "train:   0%|          | 0/1875 [00:00<?, ?it/s]"
      ]
     },
     "metadata": {},
     "output_type": "display_data"
    },
    {
     "data": {
      "application/vnd.jupyter.widget-view+json": {
       "model_id": "396e96f38ccb44b798eb9d0d7a55e4a0",
       "version_major": 2,
       "version_minor": 0
      },
      "text/plain": [
       "test:   0%|          | 0/1875 [00:00<?, ?it/s]"
      ]
     },
     "metadata": {},
     "output_type": "display_data"
    },
    {
     "data": {
      "application/vnd.jupyter.widget-view+json": {
       "model_id": "190a580ad9b849baa837ccc4e81e78c8",
       "version_major": 2,
       "version_minor": 0
      },
      "text/plain": [
       "train:   0%|          | 0/1875 [00:00<?, ?it/s]"
      ]
     },
     "metadata": {},
     "output_type": "display_data"
    },
    {
     "data": {
      "application/vnd.jupyter.widget-view+json": {
       "model_id": "1e3a927c8ced4de1b791ae1164679f64",
       "version_major": 2,
       "version_minor": 0
      },
      "text/plain": [
       "test:   0%|          | 0/1875 [00:00<?, ?it/s]"
      ]
     },
     "metadata": {},
     "output_type": "display_data"
    },
    {
     "data": {
      "application/vnd.jupyter.widget-view+json": {
       "model_id": "b51f140a618c434c8df41e6b8cf5fa62",
       "version_major": 2,
       "version_minor": 0
      },
      "text/plain": [
       "train:   0%|          | 0/1875 [00:00<?, ?it/s]"
      ]
     },
     "metadata": {},
     "output_type": "display_data"
    },
    {
     "data": {
      "application/vnd.jupyter.widget-view+json": {
       "model_id": "7d47970d6e62456d8ca07dd0df1ebbe1",
       "version_major": 2,
       "version_minor": 0
      },
      "text/plain": [
       "test:   0%|          | 0/1875 [00:00<?, ?it/s]"
      ]
     },
     "metadata": {},
     "output_type": "display_data"
    },
    {
     "data": {
      "application/vnd.jupyter.widget-view+json": {
       "model_id": "94b261c425744d7ba63f1f16bd14e6ad",
       "version_major": 2,
       "version_minor": 0
      },
      "text/plain": [
       "train:   0%|          | 0/1875 [00:00<?, ?it/s]"
      ]
     },
     "metadata": {},
     "output_type": "display_data"
    },
    {
     "data": {
      "application/vnd.jupyter.widget-view+json": {
       "model_id": "3a5ae2f2e72d424d9a1f6c962cebdbc0",
       "version_major": 2,
       "version_minor": 0
      },
      "text/plain": [
       "test:   0%|          | 0/1875 [00:00<?, ?it/s]"
      ]
     },
     "metadata": {},
     "output_type": "display_data"
    },
    {
     "data": {
      "application/vnd.jupyter.widget-view+json": {
       "model_id": "55a43255a4ce460f80f329abe266cb38",
       "version_major": 2,
       "version_minor": 0
      },
      "text/plain": [
       "train:   0%|          | 0/1875 [00:00<?, ?it/s]"
      ]
     },
     "metadata": {},
     "output_type": "display_data"
    },
    {
     "data": {
      "application/vnd.jupyter.widget-view+json": {
       "model_id": "ded8328a70e248f5a400d20c4b2d75a6",
       "version_major": 2,
       "version_minor": 0
      },
      "text/plain": [
       "test:   0%|          | 0/1875 [00:00<?, ?it/s]"
      ]
     },
     "metadata": {},
     "output_type": "display_data"
    },
    {
     "name": "stdout",
     "output_type": "stream",
     "text": [
      "max(test_acc.values()) = np.float32(0.9346333)\n",
      "min(test_losses.values()) = np.float32(0.1812751)\n"
     ]
    },
    {
     "data": {
      "image/png": "[encoded data removed]",
      "text/plain": [
       "<Figure size 640x480 with 1 Axes>"
      ]
     },
     "metadata": {},
     "output_type": "display_data"
    }
   ],
   "source": [
    "model, train_losses, test_losses, train_acc, test_acc = run(\n",
    "    opt_fn = lambda params: tz.Modular(\n",
    "        params,\n",
    "        tz.m.SOAP(),\n",
    "        tz.m.LR(1e-3),\n",
    "    ),\n",
    "    epochs=10,\n",
    ")"
   ]
  },
  {
   "cell_type": "code",
   "execution_count": 4,
   "id": "21159715",
   "metadata": {},
   "outputs": [
    {
     "ename": "NameError",
     "evalue": "name 'run' is not defined",
     "output_type": "error",
     "traceback": [
      "\u001b[31m---------------------------------------------------------------------------\u001b[39m",
      "\u001b[31mNameError\u001b[39m                                 Traceback (most recent call last)",
      "\u001b[36mCell\u001b[39m\u001b[36m \u001b[39m\u001b[32mIn[4]\u001b[39m\u001b[32m, line 1\u001b[39m\n\u001b[32m----> \u001b[39m\u001b[32m1\u001b[39m model, train_losses, test_losses, train_acc, test_acc = run(\n\u001b[32m      2\u001b[39m     opt_fn = \u001b[38;5;28;01mlambda\u001b[39;00m params: tz.Modular(\n\u001b[32m      3\u001b[39m         params,\n\u001b[32m      4\u001b[39m         tz.m.SOAP(),\n\u001b[32m      5\u001b[39m         tz.m.WeightDecay(\u001b[32m1e-2\u001b[39m),\n\u001b[32m      6\u001b[39m         tz.m.LR(\u001b[32m1e-3\u001b[39m),\n\u001b[32m      7\u001b[39m     ),\n\u001b[32m      8\u001b[39m     epochs=\u001b[32m10\u001b[39m,\n\u001b[32m      9\u001b[39m )\n",
      "\u001b[31mNameError\u001b[39m: name 'run' is not defined"
     ]
    }
   ],
   "source": [
    "model, train_losses, test_losses, train_acc, test_acc = run(\n",
    "    opt_fn = lambda params: tz.Modular(\n",
    "        params,\n",
    "        tz.m.SOAP(),\n",
    "        tz.m.WeightDecay(1e-2),\n",
    "        tz.m.LR(1e-3),\n",
    "    ),\n",
    "    epochs=10,\n",
    ")"
   ]
  }
 ],
 "metadata": {
  "kernelspec": {
   "display_name": "pytorch312",
   "language": "python",
   "name": "python3"
  },
  "language_info": {
   "codemirror_mode": {
    "name": "ipython",
    "version": 3
   },
   "file_extension": ".py",
   "mimetype": "text/x-python",
   "name": "python",
   "nbconvert_exporter": "python",
   "pygments_lexer": "ipython3",
   "version": "3.12.7"
  }
 },
 "nbformat": 4,
 "nbformat_minor": 5
}
