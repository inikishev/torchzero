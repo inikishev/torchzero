{
 "cells": [
  {
   "cell_type": "markdown",
   "id": "6e849ae8",
   "metadata": {},
   "source": [
    "# Deterministic optimization\n",
    "\n",
    "When the objective function is deterministic, we use very fast second order and quasi-newton methods to minimize it quickly. Here I am going to outline general recommendations on what algorithms to use for what problems, with 2D function examples. Then I will give an example of solving a tensor rank factorization problem.\n",
    "\n",
    "First we shall import the libraries"
   ]
  },
  {
   "cell_type": "code",
   "execution_count": null,
   "id": "daf7ba59",
   "metadata": {},
   "outputs": [],
   "source": [
    "import torch\n",
    "import torchzero as tz"
   ]
  }
 ],
 "metadata": {
  "kernelspec": {
   "display_name": "pytorch312",
   "language": "python",
   "name": "python3"
  },
  "language_info": {
   "codemirror_mode": {
    "name": "ipython",
    "version": 3
   },
   "file_extension": ".py",
   "mimetype": "text/x-python",
   "name": "python",
   "nbconvert_exporter": "python",
   "pygments_lexer": "ipython3",
   "version": "3.12.7"
  }
 },
 "nbformat": 4,
 "nbformat_minor": 5
}
