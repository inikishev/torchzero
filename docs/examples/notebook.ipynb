{
 "cells": [
  {
   "cell_type": "markdown",
   "id": "5e5a8f90",
   "metadata": {},
   "source": [
    "# MNIST\n",
    "We shall train a small FashionMNIST convolutional neural network very quickly with second order methods."
   ]
  },
  {
   "cell_type": "code",
   "execution_count": 2,
   "id": "8f5b87af",
   "metadata": {},
   "outputs": [],
   "source": [
    "import torch\n",
    "from torch import nn\n",
    "import torch.nn.functional as F\n",
    "from torch.utils.data import DataLoader, TensorDataset\n",
    "import torchzero as tz\n",
    "import matplotlib.pyplot as plt\n",
    "import tqdm\n",
    "import numpy as np\n",
    "from torchvision.datasets import FashionMNIST\n",
    "\n",
    "train = FashionMNIST(\"/var/mnt/wwn-0x5000039a52582e84-part1/datasets/FashionMNIST\", train=True, download=True)\n",
    "test = FashionMNIST(\"/var/mnt/wwn-0x5000039a52582e84-part1/datasets/FashionMNIST\", train=False, download=True)"
   ]
  },
  {
   "cell_type": "code",
   "execution_count": 3,
   "id": "a6a36b92",
   "metadata": {},
   "outputs": [
    {
     "data": {
      "text/plain": [
       "(torch.Size([60000, 1, 28, 28]),\n",
       " torch.Size([60000]),\n",
       " torch.Size([10000, 1, 28, 28]),\n",
       " torch.Size([10000]))"
      ]
     },
     "execution_count": 3,
     "metadata": {},
     "output_type": "execute_result"
    }
   ],
   "source": [
    "def to_tensors(ds):\n",
    "    inputs = []\n",
    "    targets = []\n",
    "    for input, target in ds:\n",
    "        inputs.append(torch.tensor(np.array(input), dtype=torch.float32))\n",
    "        targets.append(torch.tensor(np.array(target), dtype=torch.long))\n",
    "\n",
    "    # znormalize\n",
    "    inputs = torch.stack(inputs)\n",
    "    inputs = (inputs - inputs.mean() / inputs.std())\n",
    "\n",
    "    return inputs.cuda(), torch.stack(targets).cuda()\n",
    "\n",
    "train_X, train_y = to_tensors(train)\n",
    "test_X, test_y = to_tensors(test)\n",
    "\n",
    "train_X.unsqueeze_(1)\n",
    "test_X.unsqueeze_(1)\n",
    "train_X.shape, train_y.shape, test_X.shape, test_y.shape"
   ]
  },
  {
   "cell_type": "markdown",
   "id": "7c0f245f",
   "metadata": {},
   "source": [
    "Quasi-newton methods are feasible for objectives with under around 10,000 parameters, as long as optimization happens on a GPU for fast matrix multiplications. With over 5,000 parameters the update rule computation will become to slow down, so under 5,000 is the ideal spot.\n",
    "\n",
    "For neural networks make sure to replace RELU with ELU or another smooth activation function, and if there is any normalization, it shouldn't have momentum (i.e. replace batch norm with group, layer or instance norm)."
   ]
  },
  {
   "cell_type": "code",
   "execution_count": 13,
   "id": "b5cdad26",
   "metadata": {},
   "outputs": [
    {
     "name": "stdout",
     "output_type": "stream",
     "text": [
      "torch.Size([1, 10])\n"
     ]
    },
    {
     "data": {
      "text/plain": [
       "3802"
      ]
     },
     "execution_count": 13,
     "metadata": {},
     "output_type": "execute_result"
    }
   ],
   "source": [
    "def count_params(model):\n",
    "    return sum(p.numel() for p in model.parameters() if p.requires_grad)\n",
    "\n",
    "class TinyConvNet(nn.Module):\n",
    "    def __init__(self):\n",
    "        super().__init__()\n",
    "        self.c1 = nn.Conv2d(1, 8, 6, 2)\n",
    "        self.c2 = nn.Conv2d(8, 8, 6, 2)\n",
    "        self.c3 = nn.Conv2d(8, 8, 4, 1)\n",
    "        self.head = nn.Sequential(nn.Linear(8, 8), nn.ELU(), nn.Linear(8,10))\n",
    "\n",
    "    def forward(self, x):\n",
    "        x = F.elu(self.c1(x))\n",
    "        x = F.elu(self.c2(x))\n",
    "        x = F.elu(self.c3(x)).flatten(1,-1)\n",
    "        return self.head(x)\n",
    "\n",
    "print(TinyConvNet()(torch.randn(1,1,28,28)).shape)\n",
    "count_params(TinyConvNet())"
   ]
  },
  {
   "cell_type": "code",
   "execution_count": null,
   "id": "f68dee94",
   "metadata": {},
   "outputs": [
    {
     "name": "stdout",
     "output_type": "stream",
     "text": [
      "loss = tensor(2.7467, device='cuda:0', grad_fn=<NllLossBackward0>), opt.num_evaluations = 3\n",
      "loss = tensor(2.6192, device='cuda:0', grad_fn=<NllLossBackward0>), opt.num_evaluations = 5\n",
      "loss = tensor(2.6031, device='cuda:0', grad_fn=<NllLossBackward0>), opt.num_evaluations = 7\n",
      "loss = tensor(2.3501, device='cuda:0', grad_fn=<NllLossBackward0>), opt.num_evaluations = 9\n",
      "loss = tensor(2.3064, device='cuda:0', grad_fn=<NllLossBackward0>), opt.num_evaluations = 11\n",
      "loss = tensor(2.3029, device='cuda:0', grad_fn=<NllLossBackward0>), opt.num_evaluations = 13\n",
      "loss = tensor(2.3027, device='cuda:0', grad_fn=<NllLossBackward0>), opt.num_evaluations = 15\n",
      "loss = tensor(2.3027, device='cuda:0', grad_fn=<NllLossBackward0>), opt.num_evaluations = 17\n",
      "loss = tensor(2.3027, device='cuda:0', grad_fn=<NllLossBackward0>), opt.num_evaluations = 19\n",
      "loss = tensor(2.3027, device='cuda:0', grad_fn=<NllLossBackward0>), opt.num_evaluations = 23\n",
      "loss = tensor(2.3027, device='cuda:0', grad_fn=<NllLossBackward0>), opt.num_evaluations = 27\n",
      "loss = tensor(2.3027, device='cuda:0', grad_fn=<NllLossBackward0>), opt.num_evaluations = 38\n",
      "loss = tensor(2.3027, device='cuda:0', grad_fn=<NllLossBackward0>), opt.num_evaluations = 49\n",
      "loss = tensor(2.3027, device='cuda:0', grad_fn=<NllLossBackward0>), opt.num_evaluations = 53\n",
      "loss = tensor(2.3027, device='cuda:0', grad_fn=<NllLossBackward0>), opt.num_evaluations = 64\n",
      "loss = tensor(2.3027, device='cuda:0', grad_fn=<NllLossBackward0>), opt.num_evaluations = 72\n",
      "loss = tensor(2.3027, device='cuda:0', grad_fn=<NllLossBackward0>), opt.num_evaluations = 74\n",
      "loss = tensor(2.3026, device='cuda:0', grad_fn=<NllLossBackward0>), opt.num_evaluations = 76\n",
      "loss = tensor(2.3026, device='cuda:0', grad_fn=<NllLossBackward0>), opt.num_evaluations = 78\n",
      "loss = tensor(2.3026, device='cuda:0', grad_fn=<NllLossBackward0>), opt.num_evaluations = 88\n",
      "loss = tensor(2.3026, device='cuda:0', grad_fn=<NllLossBackward0>), opt.num_evaluations = 99\n",
      "loss = tensor(2.3026, device='cuda:0', grad_fn=<NllLossBackward0>), opt.num_evaluations = 101\n",
      "loss = tensor(2.3026, device='cuda:0', grad_fn=<NllLossBackward0>), opt.num_evaluations = 112\n",
      "loss = tensor(2.3026, device='cuda:0', grad_fn=<NllLossBackward0>), opt.num_evaluations = 119\n",
      "loss = tensor(2.3026, device='cuda:0', grad_fn=<NllLossBackward0>), opt.num_evaluations = 130\n",
      "loss = tensor(2.3026, device='cuda:0', grad_fn=<NllLossBackward0>), opt.num_evaluations = 138\n",
      "loss = tensor(2.3026, device='cuda:0', grad_fn=<NllLossBackward0>), opt.num_evaluations = 149\n",
      "loss = tensor(2.3026, device='cuda:0', grad_fn=<NllLossBackward0>), opt.num_evaluations = 157\n",
      "loss = tensor(2.3026, device='cuda:0', grad_fn=<NllLossBackward0>), opt.num_evaluations = 168\n",
      "loss = tensor(2.3026, device='cuda:0', grad_fn=<NllLossBackward0>), opt.num_evaluations = 178\n",
      "loss = tensor(2.3026, device='cuda:0', grad_fn=<NllLossBackward0>), opt.num_evaluations = 189\n",
      "loss = tensor(2.3026, device='cuda:0', grad_fn=<NllLossBackward0>), opt.num_evaluations = 199\n",
      "loss = tensor(2.3026, device='cuda:0', grad_fn=<NllLossBackward0>), opt.num_evaluations = 210\n",
      "loss = tensor(2.3026, device='cuda:0', grad_fn=<NllLossBackward0>), opt.num_evaluations = 220\n",
      "loss = tensor(2.3026, device='cuda:0', grad_fn=<NllLossBackward0>), opt.num_evaluations = 231\n",
      "loss = tensor(2.3026, device='cuda:0', grad_fn=<NllLossBackward0>), opt.num_evaluations = 242\n",
      "loss = tensor(2.3026, device='cuda:0', grad_fn=<NllLossBackward0>), opt.num_evaluations = 244\n",
      "loss = tensor(2.3026, device='cuda:0', grad_fn=<NllLossBackward0>), opt.num_evaluations = 255\n",
      "loss = tensor(2.3026, device='cuda:0', grad_fn=<NllLossBackward0>), opt.num_evaluations = 266\n",
      "loss = tensor(2.3026, device='cuda:0', grad_fn=<NllLossBackward0>), opt.num_evaluations = 268\n",
      "loss = tensor(2.3026, device='cuda:0', grad_fn=<NllLossBackward0>), opt.num_evaluations = 279\n",
      "loss = tensor(2.3026, device='cuda:0', grad_fn=<NllLossBackward0>), opt.num_evaluations = 290\n",
      "loss = tensor(2.3026, device='cuda:0', grad_fn=<NllLossBackward0>), opt.num_evaluations = 292\n",
      "loss = tensor(2.3026, device='cuda:0', grad_fn=<NllLossBackward0>), opt.num_evaluations = 303\n",
      "loss = tensor(2.3026, device='cuda:0', grad_fn=<NllLossBackward0>), opt.num_evaluations = 314\n",
      "loss = tensor(2.3026, device='cuda:0', grad_fn=<NllLossBackward0>), opt.num_evaluations = 316\n",
      "loss = tensor(2.3026, device='cuda:0', grad_fn=<NllLossBackward0>), opt.num_evaluations = 327\n",
      "loss = tensor(2.3026, device='cuda:0', grad_fn=<NllLossBackward0>), opt.num_evaluations = 338\n",
      "loss = tensor(2.3026, device='cuda:0', grad_fn=<NllLossBackward0>), opt.num_evaluations = 340\n",
      "loss = tensor(2.3026, device='cuda:0', grad_fn=<NllLossBackward0>), opt.num_evaluations = 351\n",
      "loss = tensor(2.3026, device='cuda:0', grad_fn=<NllLossBackward0>), opt.num_evaluations = 362\n",
      "loss = tensor(2.3026, device='cuda:0', grad_fn=<NllLossBackward0>), opt.num_evaluations = 364\n",
      "loss = tensor(2.3026, device='cuda:0', grad_fn=<NllLossBackward0>), opt.num_evaluations = 375\n",
      "loss = tensor(2.3026, device='cuda:0', grad_fn=<NllLossBackward0>), opt.num_evaluations = 386\n",
      "loss = tensor(2.3026, device='cuda:0', grad_fn=<NllLossBackward0>), opt.num_evaluations = 388\n",
      "loss = tensor(2.3026, device='cuda:0', grad_fn=<NllLossBackward0>), opt.num_evaluations = 399\n",
      "loss = tensor(2.3026, device='cuda:0', grad_fn=<NllLossBackward0>), opt.num_evaluations = 410\n",
      "loss = tensor(2.3026, device='cuda:0', grad_fn=<NllLossBackward0>), opt.num_evaluations = 412\n",
      "loss = tensor(2.3026, device='cuda:0', grad_fn=<NllLossBackward0>), opt.num_evaluations = 423\n",
      "loss = tensor(2.3026, device='cuda:0', grad_fn=<NllLossBackward0>), opt.num_evaluations = 434\n",
      "loss = tensor(2.3026, device='cuda:0', grad_fn=<NllLossBackward0>), opt.num_evaluations = 436\n",
      "loss = tensor(2.3026, device='cuda:0', grad_fn=<NllLossBackward0>), opt.num_evaluations = 447\n",
      "loss = tensor(2.3026, device='cuda:0', grad_fn=<NllLossBackward0>), opt.num_evaluations = 458\n",
      "loss = tensor(2.3026, device='cuda:0', grad_fn=<NllLossBackward0>), opt.num_evaluations = 460\n",
      "loss = tensor(2.3026, device='cuda:0', grad_fn=<NllLossBackward0>), opt.num_evaluations = 471\n",
      "loss = tensor(2.3026, device='cuda:0', grad_fn=<NllLossBackward0>), opt.num_evaluations = 482\n",
      "loss = tensor(2.3026, device='cuda:0', grad_fn=<NllLossBackward0>), opt.num_evaluations = 484\n",
      "loss = tensor(2.3026, device='cuda:0', grad_fn=<NllLossBackward0>), opt.num_evaluations = 495\n",
      "loss = tensor(2.3026, device='cuda:0', grad_fn=<NllLossBackward0>), opt.num_evaluations = 506\n",
      "loss = tensor(2.3026, device='cuda:0', grad_fn=<NllLossBackward0>), opt.num_evaluations = 508\n",
      "loss = tensor(2.3026, device='cuda:0', grad_fn=<NllLossBackward0>), opt.num_evaluations = 519\n",
      "loss = tensor(2.3026, device='cuda:0', grad_fn=<NllLossBackward0>), opt.num_evaluations = 530\n",
      "loss = tensor(2.3026, device='cuda:0', grad_fn=<NllLossBackward0>), opt.num_evaluations = 532\n",
      "loss = tensor(2.3026, device='cuda:0', grad_fn=<NllLossBackward0>), opt.num_evaluations = 543\n",
      "loss = tensor(2.3026, device='cuda:0', grad_fn=<NllLossBackward0>), opt.num_evaluations = 554\n",
      "loss = tensor(2.3026, device='cuda:0', grad_fn=<NllLossBackward0>), opt.num_evaluations = 556\n",
      "loss = tensor(2.3026, device='cuda:0', grad_fn=<NllLossBackward0>), opt.num_evaluations = 567\n",
      "loss = tensor(2.3026, device='cuda:0', grad_fn=<NllLossBackward0>), opt.num_evaluations = 578\n",
      "loss = tensor(2.3026, device='cuda:0', grad_fn=<NllLossBackward0>), opt.num_evaluations = 580\n",
      "loss = tensor(2.3026, device='cuda:0', grad_fn=<NllLossBackward0>), opt.num_evaluations = 591\n",
      "loss = tensor(2.3026, device='cuda:0', grad_fn=<NllLossBackward0>), opt.num_evaluations = 602\n",
      "loss = tensor(2.3026, device='cuda:0', grad_fn=<NllLossBackward0>), opt.num_evaluations = 604\n",
      "loss = tensor(2.3026, device='cuda:0', grad_fn=<NllLossBackward0>), opt.num_evaluations = 615\n",
      "loss = tensor(2.3026, device='cuda:0', grad_fn=<NllLossBackward0>), opt.num_evaluations = 626\n",
      "loss = tensor(2.3026, device='cuda:0', grad_fn=<NllLossBackward0>), opt.num_evaluations = 628\n",
      "loss = tensor(2.3026, device='cuda:0', grad_fn=<NllLossBackward0>), opt.num_evaluations = 639\n",
      "loss = tensor(2.3026, device='cuda:0', grad_fn=<NllLossBackward0>), opt.num_evaluations = 650\n",
      "loss = tensor(2.3026, device='cuda:0', grad_fn=<NllLossBackward0>), opt.num_evaluations = 652\n",
      "loss = tensor(2.3026, device='cuda:0', grad_fn=<NllLossBackward0>), opt.num_evaluations = 663\n",
      "loss = tensor(2.3026, device='cuda:0', grad_fn=<NllLossBackward0>), opt.num_evaluations = 674\n",
      "loss = tensor(2.3026, device='cuda:0', grad_fn=<NllLossBackward0>), opt.num_evaluations = 677\n",
      "loss = tensor(2.3026, device='cuda:0', grad_fn=<NllLossBackward0>), opt.num_evaluations = 688\n",
      "loss = tensor(2.3026, device='cuda:0', grad_fn=<NllLossBackward0>), opt.num_evaluations = 699\n",
      "loss = tensor(2.3026, device='cuda:0', grad_fn=<NllLossBackward0>), opt.num_evaluations = 702\n",
      "loss = tensor(2.3026, device='cuda:0', grad_fn=<NllLossBackward0>), opt.num_evaluations = 713\n",
      "loss = tensor(2.3026, device='cuda:0', grad_fn=<NllLossBackward0>), opt.num_evaluations = 724\n",
      "loss = tensor(2.3026, device='cuda:0', grad_fn=<NllLossBackward0>), opt.num_evaluations = 730\n",
      "loss = tensor(2.3026, device='cuda:0', grad_fn=<NllLossBackward0>), opt.num_evaluations = 741\n",
      "loss = tensor(2.3026, device='cuda:0', grad_fn=<NllLossBackward0>), opt.num_evaluations = 752\n",
      "loss = tensor(2.3026, device='cuda:0', grad_fn=<NllLossBackward0>), opt.num_evaluations = 758\n",
      "loss = tensor(2.3026, device='cuda:0', grad_fn=<NllLossBackward0>), opt.num_evaluations = 769\n",
      "loss = tensor(2.3026, device='cuda:0', grad_fn=<NllLossBackward0>), opt.num_evaluations = 780\n",
      "loss = tensor(2.3026, device='cuda:0', grad_fn=<NllLossBackward0>), opt.num_evaluations = 786\n",
      "loss = tensor(2.3026, device='cuda:0', grad_fn=<NllLossBackward0>), opt.num_evaluations = 797\n",
      "loss = tensor(2.3026, device='cuda:0', grad_fn=<NllLossBackward0>), opt.num_evaluations = 808\n",
      "loss = tensor(2.3026, device='cuda:0', grad_fn=<NllLossBackward0>), opt.num_evaluations = 814\n",
      "loss = tensor(2.3026, device='cuda:0', grad_fn=<NllLossBackward0>), opt.num_evaluations = 825\n",
      "loss = tensor(2.3026, device='cuda:0', grad_fn=<NllLossBackward0>), opt.num_evaluations = 836\n",
      "loss = tensor(2.3026, device='cuda:0', grad_fn=<NllLossBackward0>), opt.num_evaluations = 842\n",
      "loss = tensor(2.3026, device='cuda:0', grad_fn=<NllLossBackward0>), opt.num_evaluations = 853\n",
      "loss = tensor(2.3026, device='cuda:0', grad_fn=<NllLossBackward0>), opt.num_evaluations = 864\n",
      "loss = tensor(2.3026, device='cuda:0', grad_fn=<NllLossBackward0>), opt.num_evaluations = 870\n",
      "loss = tensor(2.3026, device='cuda:0', grad_fn=<NllLossBackward0>), opt.num_evaluations = 881\n",
      "loss = tensor(2.3026, device='cuda:0', grad_fn=<NllLossBackward0>), opt.num_evaluations = 892\n",
      "loss = tensor(2.3026, device='cuda:0', grad_fn=<NllLossBackward0>), opt.num_evaluations = 898\n",
      "loss = tensor(2.3026, device='cuda:0', grad_fn=<NllLossBackward0>), opt.num_evaluations = 909\n",
      "loss = tensor(2.3026, device='cuda:0', grad_fn=<NllLossBackward0>), opt.num_evaluations = 920\n",
      "loss = tensor(2.3026, device='cuda:0', grad_fn=<NllLossBackward0>), opt.num_evaluations = 926\n",
      "loss = tensor(2.3026, device='cuda:0', grad_fn=<NllLossBackward0>), opt.num_evaluations = 937\n",
      "loss = tensor(2.3026, device='cuda:0', grad_fn=<NllLossBackward0>), opt.num_evaluations = 948\n",
      "loss = tensor(2.3026, device='cuda:0', grad_fn=<NllLossBackward0>), opt.num_evaluations = 954\n",
      "loss = tensor(2.3026, device='cuda:0', grad_fn=<NllLossBackward0>), opt.num_evaluations = 965\n",
      "loss = tensor(2.3026, device='cuda:0', grad_fn=<NllLossBackward0>), opt.num_evaluations = 976\n",
      "loss = tensor(2.3026, device='cuda:0', grad_fn=<NllLossBackward0>), opt.num_evaluations = 982\n",
      "loss = tensor(2.3026, device='cuda:0', grad_fn=<NllLossBackward0>), opt.num_evaluations = 993\n",
      "loss = tensor(2.3026, device='cuda:0', grad_fn=<NllLossBackward0>), opt.num_evaluations = 1004\n"
     ]
    }
   ],
   "source": [
    "model = TinyConvNet().cuda()\n",
    "\n",
    "opt = tz.Modular(\n",
    "    model.parameters(),\n",
    "    tz.m.ResetOnStuck(tz.m.LBFGS(), tol=1e-6), tz.m.Backtracking()\n",
    ")\n",
    "\n",
    "train_losses = []\n",
    "test_losses = []\n",
    "test_acc = []\n",
    "\n",
    "def closure(backward=True):\n",
    "    y_hat = model(train_X)\n",
    "    loss = F.cross_entropy(y_hat, train_y)\n",
    "    if backward:\n",
    "        opt.zero_grad()\n",
    "        loss.backward()\n",
    "\n",
    "    # test loss\n",
    "    with torch.no_grad():\n",
    "        y_hat_test = model(test_X)\n",
    "        test_loss = F.cross_entropy(y_hat_test, test_y)\n",
    "        test_accuracy = (y_hat_test.argmax(-1) == test_y).float().mean()\n",
    "\n",
    "    # log\n",
    "    train_losses.append(loss.item())\n",
    "    test_losses.append(test_loss.item())\n",
    "    test_acc.append(test_accuracy.item())\n",
    "\n",
    "    return loss\n",
    "\n",
    "\n",
    "max_evals = 1000\n",
    "while True:\n",
    "    loss = opt.step(closure)\n",
    "    print(f'{loss = }, {opt.num_evaluations = }')\n",
    "    if opt.num_evaluations > max_evals: break"
   ]
  },
  {
   "cell_type": "code",
   "execution_count": 17,
   "id": "8ac5c620",
   "metadata": {},
   "outputs": [
    {
     "name": "stdout",
     "output_type": "stream",
     "text": [
      "max(test_acc) = 0.8280999660491943\n"
     ]
    },
    {
     "data": {
      "text/plain": [
       "[<matplotlib.lines.Line2D at 0x7f51d7afb0e0>]"
      ]
     },
     "execution_count": 17,
     "metadata": {},
     "output_type": "execute_result"
    },
    {
     "data": {
      "image/png": "[encoded data removed]",
      "text/plain": [
       "<Figure size 640x480 with 1 Axes>"
      ]
     },
     "metadata": {},
     "output_type": "display_data"
    }
   ],
   "source": [
    "print(f\"{max(test_acc) = }\")\n",
    "plt.plot(test_acc)"
   ]
  }
 ],
 "metadata": {
  "kernelspec": {
   "display_name": "pytorch312",
   "language": "python",
   "name": "python3"
  },
  "language_info": {
   "codemirror_mode": {
    "name": "ipython",
    "version": 3
   },
   "file_extension": ".py",
   "mimetype": "text/x-python",
   "name": "python",
   "nbconvert_exporter": "python",
   "pygments_lexer": "ipython3",
   "version": "3.12.7"
  }
 },
 "nbformat": 4,
 "nbformat_minor": 5
}
