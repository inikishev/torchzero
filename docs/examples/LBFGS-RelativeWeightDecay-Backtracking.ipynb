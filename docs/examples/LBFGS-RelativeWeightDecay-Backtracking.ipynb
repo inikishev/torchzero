{
 "cells": [
  {
   "cell_type": "markdown",
   "id": "5e5a8f90",
   "metadata": {},
   "source": [
    "# Full-batch FashionMNIST\n",
    "We shall train a tiny (under 10k params) FashionMNIST convolutional neural network using full-batch training."
   ]
  },
  {
   "cell_type": "code",
   "execution_count": 1,
   "id": "8f5b87af",
   "metadata": {},
   "outputs": [],
   "source": [
    "import torch\n",
    "from torch import nn\n",
    "import torch.nn.functional as F\n",
    "from torch.utils.data import DataLoader, TensorDataset\n",
    "import torchzero as tz\n",
    "import matplotlib.pyplot as plt\n",
    "import tqdm\n",
    "import numpy as np\n",
    "import random\n",
    "from torchvision.datasets import FashionMNIST\n",
    "\n",
    "torch.manual_seed(0)\n",
    "np.random.seed(0)\n",
    "random.seed(0)\n",
    "\n",
    "train = FashionMNIST(\"/var/mnt/wwn-0x5000039a52582e84-part1/datasets/FashionMNIST\", train=True, download=True)\n",
    "test = FashionMNIST(\"/var/mnt/wwn-0x5000039a52582e84-part1/datasets/FashionMNIST\", train=False, download=True)"
   ]
  },
  {
   "cell_type": "code",
   "execution_count": 2,
   "id": "a6a36b92",
   "metadata": {},
   "outputs": [
    {
     "data": {
      "text/plain": [
       "(torch.Size([60000, 1, 28, 28]),\n",
       " torch.Size([60000]),\n",
       " torch.Size([10000, 1, 28, 28]),\n",
       " torch.Size([10000]))"
      ]
     },
     "execution_count": 2,
     "metadata": {},
     "output_type": "execute_result"
    }
   ],
   "source": [
    "def to_tensors(ds):\n",
    "    inputs = []\n",
    "    targets = []\n",
    "    for input, target in ds:\n",
    "        inputs.append(torch.tensor(np.array(input), dtype=torch.float32))\n",
    "        targets.append(torch.tensor(np.array(target), dtype=torch.long))\n",
    "\n",
    "    # znormalize\n",
    "    inputs = torch.stack(inputs)\n",
    "    inputs = (inputs - inputs.mean() / inputs.std())\n",
    "\n",
    "    return inputs.cuda(), torch.stack(targets).cuda()\n",
    "\n",
    "train_X, train_y = to_tensors(train)\n",
    "test_X, test_y = to_tensors(test)\n",
    "\n",
    "train_X.unsqueeze_(1)\n",
    "test_X.unsqueeze_(1)\n",
    "train_X.shape, train_y.shape, test_X.shape, test_y.shape"
   ]
  },
  {
   "cell_type": "code",
   "execution_count": 3,
   "id": "b5cdad26",
   "metadata": {},
   "outputs": [
    {
     "name": "stdout",
     "output_type": "stream",
     "text": [
      "torch.Size([1, 10])\n"
     ]
    },
    {
     "data": {
      "text/plain": [
       "7074"
      ]
     },
     "execution_count": 3,
     "metadata": {},
     "output_type": "execute_result"
    }
   ],
   "source": [
    "def count_params(model):\n",
    "    return sum(p.numel() for p in model.parameters() if p.requires_grad)\n",
    "\n",
    "class TinyConvNet(nn.Module):\n",
    "    def __init__(self):\n",
    "        super().__init__()\n",
    "        self.c1 = nn.Conv2d(1, 16, 3, 2)\n",
    "        self.c2 = nn.Conv2d(16, 24, 3, 2)\n",
    "        self.c3 = nn.Conv2d(24, 32, 2)\n",
    "        self.head = nn.Conv2d(32, 10, 1)\n",
    "\n",
    "    def forward(self, x):\n",
    "        x = F.elu(self.c1(x))\n",
    "        x = F.elu(self.c2(x))\n",
    "        x = F.elu(self.c3(x))\n",
    "        return self.head(x).sum((2,3))\n",
    "\n",
    "print(TinyConvNet()(torch.randn(1,1,28,28)).shape)\n",
    "count_params(TinyConvNet())"
   ]
  },
  {
   "cell_type": "code",
   "execution_count": 4,
   "id": "f68dee94",
   "metadata": {},
   "outputs": [
    {
     "name": "stderr",
     "output_type": "stream",
     "text": [
      "tensor(0.2327, device='cuda:0', grad_fn=<NllLossBackward0>): 100%|██████████| 1000/1000 [07:01<00:00,  2.37it/s]\n"
     ]
    }
   ],
   "source": [
    "model = TinyConvNet().cuda()\n",
    "\n",
    "opt = tz.Modular(\n",
    "    model.parameters(),\n",
    "    tz.m.LBFGS(100),\n",
    "    tz.m.RelativeWeightDecay(0.2),\n",
    "    tz.m.Backtracking(),\n",
    ")\n",
    "\n",
    "train_losses = []\n",
    "test_losses = []\n",
    "test_acc = []\n",
    "\n",
    "def closure(backward=True):\n",
    "    y_hat = model(train_X)\n",
    "    loss = F.cross_entropy(y_hat, train_y)\n",
    "    if backward:\n",
    "        opt.zero_grad()\n",
    "        loss.backward()\n",
    "\n",
    "    # test loss\n",
    "    with torch.no_grad():\n",
    "        y_hat_test = model(test_X)\n",
    "        test_loss = F.cross_entropy(y_hat_test, test_y)\n",
    "        test_accuracy = (y_hat_test.argmax(-1) == test_y).float().mean()\n",
    "\n",
    "    # log\n",
    "    train_losses.append(loss.item())\n",
    "    test_losses.append(test_loss.item())\n",
    "    test_acc.append(test_accuracy.item())\n",
    "\n",
    "    return loss\n",
    "\n",
    "pbar = tqdm.trange(1000)\n",
    "for step in pbar:\n",
    "    loss = opt.step(closure)\n",
    "    pbar.set_description(str(loss))"
   ]
  },
  {
   "cell_type": "code",
   "execution_count": 5,
   "id": "8ac5c620",
   "metadata": {},
   "outputs": [
    {
     "name": "stdout",
     "output_type": "stream",
     "text": [
      "max(test_acc) = 0.8928999900817871\n"
     ]
    },
    {
     "data": {
      "text/plain": [
       "[<matplotlib.lines.Line2D at 0x7f0a780cf6b0>]"
      ]
     },
     "execution_count": 5,
     "metadata": {},
     "output_type": "execute_result"
    },
    {
     "data": {
      "image/png": "[encoded data removed]",
      "text/plain": [
       "<Figure size 640x480 with 1 Axes>"
      ]
     },
     "metadata": {},
     "output_type": "display_data"
    }
   ],
   "source": [
    "print(f\"{max(test_acc) = }\")\n",
    "plt.plot(test_acc)"
   ]
  }
 ],
 "metadata": {
  "kernelspec": {
   "display_name": "pytorch312",
   "language": "python",
   "name": "python3"
  },
  "language_info": {
   "codemirror_mode": {
    "name": "ipython",
    "version": 3
   },
   "file_extension": ".py",
   "mimetype": "text/x-python",
   "name": "python",
   "nbconvert_exporter": "python",
   "pygments_lexer": "ipython3",
   "version": "3.12.7"
  }
 },
 "nbformat": 4,
 "nbformat_minor": 5
}
