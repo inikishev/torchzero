{
 "cells": [
  {
   "cell_type": "code",
   "execution_count": 2,
   "metadata": {},
   "outputs": [],
   "source": [
    "\"\"\"Sanity check on booth function. All optimizers should converge.\"\"\"\n",
    "import pytest\n",
    "import torch\n",
    "import numpy as np\n",
    "import torchzero as tz\n",
    "\n",
    "def booth(x,y):\n",
    "    return (x + 2 * y - 7) ** 2 + (2 * x + y - 5) ** 2\n",
    "\n",
    "x0 = (0, -8)\n",
    "\n",
    "__pylance = torch.tensor(float('inf'))\n",
    "PRINT_LOSSES = True\n",
    "\n",
    "def _ensure_float(x):\n",
    "    if isinstance(x,torch.Tensor): return x.detach().cpu().item()\n",
    "    if isinstance(x, np.ndarray): return x.item()\n",
    "    return x\n",
    "\n",
    "def _test_optimizer(lmbda, tol=1e-1, niter=100, allow_non_tensor=False):\n",
    "    params = torch.tensor(x0, dtype=torch.float32, requires_grad=True)\n",
    "    opt = lmbda([params])\n",
    "\n",
    "    def closure(backward=True):\n",
    "        loss = booth(*params)\n",
    "        if backward:\n",
    "            opt.zero_grad()\n",
    "            loss.backward()\n",
    "        return loss\n",
    "\n",
    "    loss = __pylance\n",
    "    losses = []\n",
    "    for i in range(niter):\n",
    "        loss = opt.step(closure)\n",
    "        losses.append(loss)\n",
    "\n",
    "        if allow_non_tensor:\n",
    "            assert isinstance(loss, (torch.Tensor, np.ndarray, int, float)), (opt.__class__.__name__, i, type(loss), loss)\n",
    "        else:\n",
    "            assert isinstance(loss, torch.Tensor), (opt.__class__.__name__, i, type(loss), loss)\n",
    "\n",
    "        if isinstance(loss, torch.Tensor): assert torch.isfinite(loss), (opt.__class__.__name__, i, loss)\n",
    "        else: assert np.isfinite(loss), (opt.__class__.__name__, i, loss)\n",
    "\n",
    "    assert loss <= tol, (opt.__class__.__name__, tol, loss, [i.detach().cpu().item() for i in losses])\n",
    "    if PRINT_LOSSES: print(opt.__class__.__name__, _ensure_float(loss))"
   ]
  },
  {
   "cell_type": "code",
   "execution_count": 3,
   "metadata": {},
   "outputs": [
    {
     "name": "stdout",
     "output_type": "stream",
     "text": [
      "Modular 4.547473508864641e-13\n"
     ]
    }
   ],
   "source": [
    "import nevergrad as ng\n",
    "from torchzero.optim.wrappers.nevergrad import NevergradOptimizer\n",
    "opt = lambda p: tz.optim.Modular(p, tz.m.MinibatchRprop(1e-1))\n",
    "_test_optimizer(opt, niter=100)"
   ]
  }
 ],
 "metadata": {
  "kernelspec": {
   "display_name": "pytorch312",
   "language": "python",
   "name": "python3"
  },
  "language_info": {
   "codemirror_mode": {
    "name": "ipython",
    "version": 3
   },
   "file_extension": ".py",
   "mimetype": "text/x-python",
   "name": "python",
   "nbconvert_exporter": "python",
   "pygments_lexer": "ipython3",
   "version": "3.12.2"
  }
 },
 "nbformat": 4,
 "nbformat_minor": 2
}
